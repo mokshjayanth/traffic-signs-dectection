{
  "cells": [
    {
      "cell_type": "markdown",
      "metadata": {
        "id": "sUEf0Dje0n0s"
      },
      "source": [
        ""
      ]
    },
    {
      "cell_type": "code",
      "execution_count": null,
      "metadata": {
        "id": "2CSdn5dmQvnV"
      },
      "outputs": [],
      "source": [
        "import keras\n",
        "import numpy as np \n",
        "import pandas as pd \n",
        "import matplotlib.pyplot as plt\n",
        "import cv2\n",
        "import tensorflow as tf\n",
        "from PIL import Image\n",
        "import os\n",
        "from sklearn.model_selection import train_test_split\n",
        "from keras.models import Sequential, load_model\n",
        "from keras.layers import Conv2D, MaxPool2D, Dense, Flatten, Dropout"
      ]
    },
    {
      "cell_type": "code",
      "execution_count": null,
      "metadata": {
        "colab": {
          "base_uri": "https://localhost:8080/"
        },
        "id": "5OXg-9Eqrrlt",
        "outputId": "a99b8bc9-42d5-474b-f10b-09ef813b25d9"
      },
      "outputs": [
        {
          "name": "stdout",
          "output_type": "stream",
          "text": [
            "Looking in indexes: https://pypi.org/simple, https://us-python.pkg.dev/colab-wheels/public/simple/\n",
            "Collecting opendatasets\n",
            "  Downloading opendatasets-0.1.22-py3-none-any.whl (15 kB)\n",
            "Requirement already satisfied: kaggle in /usr/local/lib/python3.7/dist-packages (from opendatasets) (1.5.12)\n",
            "Requirement already satisfied: tqdm in /usr/local/lib/python3.7/dist-packages (from opendatasets) (4.64.0)\n",
            "Requirement already satisfied: click in /usr/local/lib/python3.7/dist-packages (from opendatasets) (7.1.2)\n",
            "Requirement already satisfied: requests in /usr/local/lib/python3.7/dist-packages (from kaggle->opendatasets) (2.23.0)\n",
            "Requirement already satisfied: six>=1.10 in /usr/local/lib/python3.7/dist-packages (from kaggle->opendatasets) (1.15.0)\n",
            "Requirement already satisfied: urllib3 in /usr/local/lib/python3.7/dist-packages (from kaggle->opendatasets) (1.24.3)\n",
            "Requirement already satisfied: python-dateutil in /usr/local/lib/python3.7/dist-packages (from kaggle->opendatasets) (2.8.2)\n",
            "Requirement already satisfied: python-slugify in /usr/local/lib/python3.7/dist-packages (from kaggle->opendatasets) (6.1.2)\n",
            "Requirement already satisfied: certifi in /usr/local/lib/python3.7/dist-packages (from kaggle->opendatasets) (2022.6.15)\n",
            "Requirement already satisfied: text-unidecode>=1.3 in /usr/local/lib/python3.7/dist-packages (from python-slugify->kaggle->opendatasets) (1.3)\n",
            "Requirement already satisfied: idna<3,>=2.5 in /usr/local/lib/python3.7/dist-packages (from requests->kaggle->opendatasets) (2.10)\n",
            "Requirement already satisfied: chardet<4,>=3.0.2 in /usr/local/lib/python3.7/dist-packages (from requests->kaggle->opendatasets) (3.0.4)\n",
            "Installing collected packages: opendatasets\n",
            "Successfully installed opendatasets-0.1.22\n"
          ]
        }
      ],
      "source": [
        "!pip install opendatasets"
      ]
    },
    {
      "cell_type": "code",
      "execution_count": null,
      "metadata": {
        "colab": {
          "base_uri": "https://localhost:8080/"
        },
        "id": "DQp7p988rnse",
        "outputId": "4e1388f6-69a8-4d00-8684-e8d56d9e6107"
      },
      "outputs": [
        {
          "name": "stdout",
          "output_type": "stream",
          "text": [
            "Please provide your Kaggle credentials to download this dataset. Learn more: http://bit.ly/kaggle-creds\n",
            "Your Kaggle username: mokshjayanthgr\n",
            "Your Kaggle Key: ··········\n",
            "Downloading gtsrb-german-traffic-sign.zip to ./gtsrb-german-traffic-sign\n"
          ]
        },
        {
          "name": "stderr",
          "output_type": "stream",
          "text": [
            "100%|██████████| 612M/612M [00:04<00:00, 148MB/s]\n"
          ]
        },
        {
          "name": "stdout",
          "output_type": "stream",
          "text": [
            "\n"
          ]
        }
      ],
      "source": [
        "import opendatasets as od\n",
        "import pandas\n",
        "\n",
        "od.download(\n",
        "\t\"https://www.kaggle.com/datasets/meowmeowmeowmeowmeow/gtsrb-german-traffic-sign\")\n"
      ]
    },
    {
      "cell_type": "code",
      "execution_count": null,
      "metadata": {
        "id": "tJKZO33gs5-u"
      },
      "outputs": [],
      "source": [
        "import os\n",
        "import random"
      ]
    },
    {
      "cell_type": "code",
      "execution_count": null,
      "metadata": {
        "id": "P6yMFqOPIDnY"
      },
      "outputs": [],
      "source": [
        "import shutil"
      ]
    },
    {
      "cell_type": "code",
      "execution_count": null,
      "metadata": {
        "id": "EXbEmv9EIFgB"
      },
      "outputs": [],
      "source": [
        "start_path = \"/content/gtsrb-german-traffic-sign/Train/\"\n",
        "end_path = \"/content/sample_data/Test/\"\n",
        "os.mkdir(\"/content/sample_data/Test\")"
      ]
    },
    {
      "cell_type": "code",
      "execution_count": null,
      "metadata": {
        "id": "-9EmE1BxKAs5"
      },
      "outputs": [],
      "source": [
        "for i in range(40):\n",
        "  start = start_path+str(i)+'/'\n",
        "  end = end_path+str(i)\n",
        "  os.mkdir(end)\n",
        "  images = os.listdir(start)\n",
        "  for i in range(10):\n",
        "    img = random.choice(images)\n",
        "    shutil.move(start+img,end+'/'+img)\n",
        "    images.remove(img)\n"
      ]
    },
    {
      "cell_type": "code",
      "execution_count": null,
      "metadata": {
        "id": "OqG0MshotIe0"
      },
      "outputs": [],
      "source": [
        "for i in range(40):\n",
        "  print(len(os.listdir(start_path+str(i))))"
      ]
    },
    {
      "cell_type": "code",
      "execution_count": null,
      "metadata": {
        "id": "o_DGFpJAQDLT"
      },
      "outputs": [],
      "source": [
        ""
      ]
    },
    {
      "cell_type": "code",
      "execution_count": null,
      "metadata": {
        "id": "cvvWqZpHy-_-"
      },
      "outputs": [],
      "source": [
        "#for testing let's get 10 images from each \n",
        "path_test = \"/content/sample_data\""
      ]
    },
    {
      "cell_type": "code",
      "execution_count": null,
      "metadata": {
        "id": "jU_Ql-9vShmP"
      },
      "outputs": [],
      "source": [
        "\n",
        "# from keras.utils import to_categorical\n",
        "import tensorflow as tf\n"
      ]
    },
    {
      "cell_type": "code",
      "execution_count": null,
      "metadata": {
        "id": "cTrb0tg3Q1-7"
      },
      "outputs": [],
      "source": [
        "%cd /content/drive/MyDrive/project-4"
      ]
    },
    {
      "cell_type": "code",
      "execution_count": null,
      "metadata": {
        "id": "WzWj_K6bU5jR"
      },
      "outputs": [],
      "source": [
        "os.getcwd()"
      ]
    },
    {
      "cell_type": "code",
      "execution_count": null,
      "metadata": {
        "colab": {
          "background_save": true
        },
        "id": "BlWD6b4TVc1-",
        "outputId": "2ca32b87-42cd-46fb-e6c2-e126c950ba13"
      },
      "outputs": [
        {
          "name": "stdout",
          "output_type": "stream",
          "text": [
            "(37969, 30, 30, 3) (37969,)\n"
          ]
        }
      ],
      "source": [
        "data = []\n",
        "labels = []\n",
        "classes = 40\n",
        "curr_path = \"/content/gtsrb-german-traffic-sign/Train\"\n",
        "#Retrieving the images and their labels \n",
        "for i in range(classes):\n",
        "    path = os.path.join(curr_path,str(i))\n",
        "    images = os.listdir(path)\n",
        "\n",
        "    for a in images:\n",
        "          image = Image.open(path + '/'+ a)\n",
        "          image = image.resize((30,30))\n",
        "          image = np.array(image)\n",
        "          data.append(image)\n",
        "          labels.append(i)\n",
        "#Converting lists into numpy arrays\n",
        "data = np.array(data)\n",
        "labels = np.array(labels)\n",
        "\n",
        "print(data.shape, labels.shape)\n",
        "#Splitting training and testing dataset"
      ]
    },
    {
      "cell_type": "code",
      "execution_count": null,
      "metadata": {
        "colab": {
          "background_save": true
        },
        "id": "ZYfgFlsZYfM5",
        "outputId": "2247845b-5583-4b01-c5ef-2dd1224a3813"
      },
      "outputs": [
        {
          "name": "stdout",
          "output_type": "stream",
          "text": [
            "(30375, 30, 30, 3) (7594, 30, 30, 3) (30375,) (7594,)\n"
          ]
        }
      ],
      "source": [
        "X_train, X_test, y_train, y_test = train_test_split(data, labels, test_size=0.2, random_state=42)\n",
        "\n",
        "print(X_train.shape, X_test.shape, y_train.shape, y_test.shape)"
      ]
    },
    {
      "cell_type": "code",
      "execution_count": null,
      "metadata": {
        "colab": {
          "background_save": true
        },
        "id": "eCB6F0i5ZQ4E"
      },
      "outputs": [],
      "source": [
        "#Converting the labels into one hot encoding\n",
        "y_train = pd.get_dummies(y_train)\n",
        "y_test = pd.get_dummies(y_test)"
      ]
    },
    {
      "cell_type": "code",
      "execution_count": null,
      "metadata": {
        "colab": {
          "background_save": true
        },
        "id": "3QGdzJlFdgAs"
      },
      "outputs": [],
      "source": [
        "y_train = np.array(y_train)\n",
        "y_test = np.array(y_test)"
      ]
    },
    {
      "cell_type": "code",
      "execution_count": null,
      "metadata": {
        "colab": {
          "background_save": true
        },
        "id": "bmv70q3heXp6"
      },
      "outputs": [],
      "source": [
        ""
      ]
    },
    {
      "cell_type": "code",
      "execution_count": null,
      "metadata": {
        "colab": {
          "background_save": true
        },
        "id": "unKwR00gdwEl"
      },
      "outputs": [],
      "source": [
        "\n",
        "#Building the model\n",
        "model = Sequential()\n",
        "model.add(Conv2D(filters=32, kernel_size=(5,5), activation='relu', input_shape=X_train.shape[1:]))\n",
        "model.add(Conv2D(filters=32, kernel_size=(5,5), activation='relu'))\n",
        "model.add(MaxPool2D(pool_size=(2, 2)))\n",
        "model.add(Dropout(rate=0.25))\n",
        "model.add(Conv2D(filters=64, kernel_size=(3, 3), activation='relu'))\n",
        "model.add(Conv2D(filters=64, kernel_size=(3, 3), activation='relu'))\n",
        "model.add(MaxPool2D(pool_size=(2, 2)))\n",
        "model.add(Dropout(rate=0.25))\n",
        "model.add(Flatten())\n",
        "model.add(Dense(256, activation='relu'))\n",
        "model.add(Dropout(rate=0.5))\n",
        "model.add(Dense(40, activation='softmax'))\n",
        "\n",
        "#Compilation of the model\n",
        "model.compile(loss='categorical_crossentropy', optimizer='adam', metrics=['accuracy'])"
      ]
    },
    {
      "cell_type": "code",
      "execution_count": null,
      "metadata": {
        "colab": {
          "background_save": true,
          "base_uri": "https://localhost:8080/"
        },
        "id": "LWQCABeVfNZr",
        "outputId": "f2661e01-953d-4a9c-925d-5e4fbc1374c6"
      },
      "outputs": [
        {
          "output_type": "stream",
          "name": "stdout",
          "text": [
            "Epoch 1/15\n",
            "950/950 [==============================] - 140s 146ms/step - loss: 1.9976 - accuracy: 0.4961 - val_loss: 0.5751 - val_accuracy: 0.8559\n",
            "Epoch 2/15\n",
            "712/950 [=====================>........] - ETA: 30s - loss: 0.7951 - accuracy: 0.7720"
          ]
        }
      ],
      "source": [
        "epochs = 15\n",
        "history = model.fit(X_train, y_train, batch_size=32, epochs=epochs, validation_data=(X_test, y_test))\n",
        "model.save(\"my_model.h5\")"
      ]
    },
    {
      "cell_type": "code",
      "execution_count": null,
      "metadata": {
        "colab": {
          "background_save": true
        },
        "id": "QCsn5VEmodie"
      },
      "outputs": [],
      "source": [
        "def load_and_prep_image(filename, img_shape=30):\n",
        "  img = tf.io.read_file(filename)\n",
        "\n",
        "  img = tf.image.decode_image(img, channels=3)\n",
        "\n",
        "  img = tf.image.resize(img, size = [img_shape, img_shape])\n",
        "  img/=255.\n",
        "  return img"
      ]
    },
    {
      "cell_type": "code",
      "execution_count": null,
      "metadata": {
        "colab": {
          "background_save": true
        },
        "id": "TPCOYJbBohfi"
      },
      "outputs": [],
      "source": [
        "from matplotlib import pyplot as plt\n",
        "def pred_and_plot(model, filename, class_names):\n",
        "  img = load_and_prep_image(filename)\n",
        "\n",
        "  pred = model.predict(tf.expand_dims(img, axis=0))\n",
        "\n",
        "  # predicted class\n",
        "  pred_class = class_names[pred.argmax()] # if more than one output, take the max\n",
        "\n",
        "  plt.imshow(img)\n",
        "  plt.title(f\"Prediction: {pred_class}\")\n",
        "  plt.axis(False);"
      ]
    },
    {
      "cell_type": "code",
      "execution_count": null,
      "metadata": {
        "colab": {
          "background_save": true
        },
        "id": "EVwKi0panMyS"
      },
      "outputs": [],
      "source": [
        "# image = Image.open(\"/content/00014_00000_00029.png\")\n",
        "# image = image.resize((30,30))\n",
        "# image = np.array(image)\n",
        "# image = np.expand_dims(image,axis=0)\n",
        "# pred = model.predict(image)\n",
        "# np.argmax(pred)"
      ]
    },
    {
      "cell_type": "code",
      "execution_count": null,
      "metadata": {
        "colab": {
          "background_save": true
        },
        "id": "baQDTnMXs2t-"
      },
      "outputs": [],
      "source": [
        "#plotting graphs for accuracy \n",
        "plt.figure(0)\n",
        "plt.plot(history.history['accuracy'], label='training accuracy')\n",
        "plt.plot(history.history['val_accuracy'], label='val accuracy')\n",
        "plt.title('Accuracy')\n",
        "plt.xlabel('epochs')\n",
        "plt.ylabel('accuracy')\n",
        "plt.legend()\n",
        "plt.show()\n",
        "\n",
        "plt.figure(1)\n",
        "plt.plot(history.history['loss'], label='training loss')\n",
        "plt.plot(history.history['val_loss'], label='val loss')\n",
        "plt.title('Loss')\n",
        "plt.xlabel('epochs')\n",
        "plt.ylabel('loss')\n",
        "plt.legend()\n",
        "plt.show()"
      ]
    },
    {
      "cell_type": "code",
      "execution_count": null,
      "metadata": {
        "colab": {
          "background_save": true
        },
        "id": "unpt_ibQP4Re"
      },
      "outputs": [],
      "source": [
        "from tensorflow.keras.models import load_model"
      ]
    },
    {
      "cell_type": "code",
      "execution_count": null,
      "metadata": {
        "colab": {
          "background_save": true
        },
        "id": "XQ-s0qHRSAfR"
      },
      "outputs": [],
      "source": [
        "model = load_model('my_model.h5')"
      ]
    },
    {
      "cell_type": "code",
      "execution_count": null,
      "metadata": {
        "colab": {
          "background_save": true
        },
        "id": "KkZRwD1QS0OO"
      },
      "outputs": [],
      "source": [
        "from tensorflow.keras.utils import plot_model"
      ]
    },
    {
      "cell_type": "code",
      "execution_count": null,
      "metadata": {
        "colab": {
          "background_save": true
        },
        "id": "67FeKnn0S478"
      },
      "outputs": [],
      "source": [
        "l = plot_model(model)"
      ]
    },
    {
      "cell_type": "code",
      "execution_count": null,
      "metadata": {
        "colab": {
          "background_save": true
        },
        "id": "ZLOh6tW4TKJX"
      },
      "outputs": [],
      "source": [
        "l"
      ]
    },
    {
      "cell_type": "code",
      "execution_count": null,
      "metadata": {
        "colab": {
          "background_save": true
        },
        "id": "WtAFFqK2VNtr"
      },
      "outputs": [],
      "source": [
        "from tensorflow.keras.models import load_model\n",
        "model = load_model('my_model.h5')"
      ]
    },
    {
      "cell_type": "code",
      "execution_count": null,
      "metadata": {
        "colab": {
          "background_save": true
        },
        "id": "qKYOdyIma-yZ"
      },
      "outputs": [],
      "source": [
        "targets = [i for i in range(40)]\n",
        "targets[0]  = \"Speed limit 20 kilometers per hour\"\n",
        "targets[1]  = \"Speed limit 30 kilometers per hour\"\n",
        "targets[2]  = \"Speed limit 50 kilometers per hour\"\n",
        "targets[3]  = \"Speed limit 60 kilometers per hour\"\n",
        "targets[4]  = \"Speed limit 70 kilometers per hour\"\n",
        "targets[5]  = \"Speed limit 80 kilometers per hour\"\n",
        "targets[6]  = \"open road Speed limit of 80 kilometers per hour\"\n",
        "targets[7]  = \"Speed limit 100 kilometers per hour\"\n",
        "targets[8]  = \"Speed limit 120 kilometers per hour\"\n",
        "targets[9]  = \"No overtaking\"\n",
        "targets[10] = \"No truck overtaking\"\n",
        "targets[11] = \"right of way\"\n",
        "targets[12] = \"Closed quadrilateralRoad\"\n",
        "targets[13] = \"Closed triangular Road\"\n",
        "targets[14] = \"Stop Sign\"\n",
        "targets[15] = \"No vehicles allowed\"\n",
        "targets[16] = \"Truck parking area\"\n",
        "targets[17] = \"No Entry\"\n",
        "targets[18] = \"Warning\"\n",
        "targets[19] = \"Left curve ahead\"\n",
        "targets[20] = \"Right curve ahead\"\n",
        "targets[21] = \"Sharp curve ahead\"\n",
        "targets[22] = \"Speed bump ahead\"\n",
        "targets[23] = \"Slippary Road\"\n",
        "targets[24] = \"Narrow road ahead\"\n",
        "targets[25] = \"Construction work ahead\"\n",
        "targets[26] = \"Traffic sign ahead\"\n",
        "targets[27] = \"Crosswalk\"\n",
        "targets[28] = \"Children playground ahead\"\n",
        "targets[29] = \"Only bicycles allowed\"\n",
        "targets[30] = \"Snowy road\"\n",
        "targets[31] = \"Animal crossings\"\n",
        "targets[32] = \"Derestriction\"\n",
        "targets[33] = \"Only right Turn\"\n",
        "targets[34] = \"Only Left Turn\"\n",
        "targets[35] = \"Keep Straight\"\n",
        "targets[36] = \"Keep Straight or Turn Right\"\n",
        "targets[37] = \"Keep Straight or Turn Left\"\n",
        "targets[38] = \"Sharp turn right back\"\n",
        "targets[39] = \"Sharp turn left back\""
      ]
    },
    {
      "cell_type": "code",
      "execution_count": null,
      "metadata": {
        "colab": {
          "background_save": true
        },
        "id": "qbb92rICbU6h"
      },
      "outputs": [],
      "source": [
        "from PIL import Image\n",
        "import numpy as np"
      ]
    },
    {
      "cell_type": "code",
      "execution_count": null,
      "metadata": {
        "colab": {
          "background_save": true
        },
        "id": "XhGTIV0A-qD4"
      },
      "outputs": [],
      "source": [
        "!pip install -q gradio"
      ]
    },
    {
      "cell_type": "code",
      "execution_count": null,
      "metadata": {
        "colab": {
          "background_save": true
        },
        "id": "uXlRA8vUyUYK"
      },
      "outputs": [],
      "source": [
        "!pip install twilio"
      ]
    },
    {
      "cell_type": "code",
      "execution_count": null,
      "metadata": {
        "colab": {
          "background_save": true
        },
        "id": "ui9xWYsPbRvt"
      },
      "outputs": [],
      "source": [
        "import gradio as gr\n",
        "from twilio.rest import Client\n",
        "\n",
        "def traffic_app(TrafficSignBoard, PhoneNumber):\n",
        "    image = TrafficSignBoard\n",
        "    image = np.expand_dims(image,axis=0)\n",
        "    pred = model.predict(image)\n",
        "    pred = np.argmax(pred)\n",
        "\n",
        "    account_sid = \"ACb103647d6f07ddc78a87b76a00b1e779\"\n",
        "    auth_token = \"414988b2430c6f3d913878307f97f688\"\n",
        "    client = Client(account_sid, auth_token)\n",
        "\n",
        "    message = client.messages \\\n",
        "      .create(\n",
        "          body= \"\\nSign Board Ahead!\\n\"+ targets[pred] + \". Drive Safe!\",\n",
        "          from_='+13853868323',\n",
        "          to=PhoneNumber\n",
        "      )\n",
        "\n",
        "    return targets[pred]\n",
        "\n",
        "demo = gr.Interface(traffic_app, [gr.Image(shape=(30, 30)), \"text\"], \"text\",\n",
        "                    title=\"Traffic Sign Detection App\",\n",
        "                    description=\"Follow Traffic Rules. Drive Safe!\")\n",
        "\n",
        "demo.launch(share=True)"
      ]
    },
    {
      "cell_type": "code",
      "execution_count": null,
      "metadata": {
        "colab": {
          "background_save": true
        },
        "id": "jyyh050K7Ikj"
      },
      "outputs": [],
      "source": [
        ""
      ]
    }
  ],
  "metadata": {
    "colab": {
      "collapsed_sections": [],
      "name": "Traffic Signs Detection - WebApp.ipynb",
      "provenance": []
    },
    "kernelspec": {
      "display_name": "Python 3",
      "name": "python3"
    },
    "language_info": {
      "name": "python"
    }
  },
  "nbformat": 4,
  "nbformat_minor": 0
}